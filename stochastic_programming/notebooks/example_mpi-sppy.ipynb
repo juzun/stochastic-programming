{
 "cells": [
  {
   "cell_type": "code",
   "execution_count": 1,
   "metadata": {},
   "outputs": [
    {
     "name": "stdout",
     "output_type": "stream",
     "text": [
      "[    0.00] Initializing mpi-sppy\n"
     ]
    }
   ],
   "source": [
    "from typing import Dict, Optional, List\n",
    "import datetime as dt\n",
    "import pandas as pd\n",
    "import numpy as np\n",
    "import pyomo.environ as pyo\n",
    "from pyomo.contrib.latex_printer import latex_printer\n",
    "import mpisppy.utils.sputils as sputils\n",
    "from mpisppy.opt.ef import ExtensiveForm"
   ]
  },
  {
   "cell_type": "code",
   "execution_count": 2,
   "metadata": {},
   "outputs": [],
   "source": [
    "def build_model(price: int, objective_limit: float = float('inf')) -> pyo.ConcreteModel:\n",
    "    mdl = pyo.ConcreteModel()\n",
    "\n",
    "    mdl.lot = pyo.Set(initialize=[1, 2])\n",
    "\n",
    "    mdl.land_development_price = pyo.Param(mdl.lot, initialize={1: 600, 2: 100})\n",
    "    mdl.build_now_price = pyo.Param(mdl.lot, initialize={1: 200, 2: 600})\n",
    "    mdl.build_later_price = pyo.Param(mdl.lot, initialize={1: 220, 2: 660})\n",
    "\n",
    "    mdl.develop_land = pyo.Var(mdl.lot, domain=pyo.Binary, name=\"Develop land\")\n",
    "    mdl.build_now = pyo.Var(mdl.lot, domain=pyo.Binary, name=\"Build now\")\n",
    "    mdl.build_later = pyo.Var(mdl.lot, domain=pyo.Binary, name=\"Build later\")\n",
    "\n",
    "    mdl.first_stage_costs = sum(\n",
    "        mdl.land_development_price[lot] * mdl.develop_land[lot]\n",
    "        + mdl.build_now_price[lot] * mdl.build_now[lot]\n",
    "        for lot in mdl.lot\n",
    "    )\n",
    "    mdl.build_later_cost = sum(\n",
    "        mdl.build_later_price[lot] * mdl.build_later[lot]\n",
    "        for lot in mdl.lot\n",
    "    )\n",
    "    mdl.revenues = sum(\n",
    "        price * (mdl.build_now[lot] + mdl.build_later[lot])\n",
    "        for lot in mdl.lot\n",
    "    )\n",
    "    \n",
    "    mdl.objective = pyo.Objective(\n",
    "        expr=(\n",
    "            mdl.revenues - mdl.first_stage_costs - mdl.build_later_cost\n",
    "        ),\n",
    "        sense=pyo.maximize,\n",
    "    )\n",
    "\n",
    "    mdl.constr_build_once = pyo.ConstraintList()\n",
    "    for lot in mdl.lot:\n",
    "        mdl.constr_build_once.add(mdl.build_now[lot] + mdl.build_later[lot] <= 1)\n",
    "\n",
    "    mdl.constr_cost_of_land = pyo.ConstraintList()\n",
    "    for lot in mdl.lot:\n",
    "        mdl.constr_cost_of_land.add(mdl.develop_land[lot] >= (mdl.build_now[lot] + mdl.build_later[lot]))\n",
    "\n",
    "    mdl.limit_optimal_solution = pyo.Constraint(\n",
    "        expr=mdl.objective <= objective_limit\n",
    "    )\n",
    "\n",
    "    return mdl"
   ]
  },
  {
   "cell_type": "code",
   "execution_count": 7,
   "metadata": {},
   "outputs": [],
   "source": [
    "scenarios = {\n",
    "    \"s0\": 210,\n",
    "    \"s1\": 1250,\n",
    "    # \"s2\": 2500\n",
    "}\n",
    "\n",
    "def scenario_creator(scenario):\n",
    "    price = scenarios[scenario]\n",
    "    mdl = build_model(price)\n",
    "    sputils.attach_root_node(mdl, mdl.first_stage_costs, [mdl.develop_land, mdl.build_now])\n",
    "    mdl._mpisppy_probability = 0.5\n",
    "    return mdl"
   ]
  },
  {
   "cell_type": "markdown",
   "metadata": {},
   "source": [
    "### Solving model with using Extensive Form"
   ]
  },
  {
   "cell_type": "code",
   "execution_count": 8,
   "metadata": {},
   "outputs": [
    {
     "name": "stdout",
     "output_type": "stream",
     "text": [
      "[   10.59] Initializing SPBase\n"
     ]
    }
   ],
   "source": [
    "options = {\"solver\": \"scip\"}\n",
    "scenario_names = list(scenarios.keys())\n",
    "ef = ExtensiveForm(options, scenario_names, scenario_creator)\n",
    "results = ef.solve_extensive_form()"
   ]
  },
  {
   "cell_type": "code",
   "execution_count": 9,
   "metadata": {},
   "outputs": [
    {
     "name": "stdout",
     "output_type": "stream",
     "text": [
      "195.0\n",
      "{'develop_land[1]': 0.0, 'develop_land[2]': 1.0, 'build_now[1]': 0.0, 'build_now[2]': 0.0}\n"
     ]
    }
   ],
   "source": [
    "objective = ef.get_objective_value()\n",
    "root_solution = ef.get_root_solution()\n",
    "\n",
    "print(objective)\n",
    "print(root_solution)"
   ]
  },
  {
   "cell_type": "code",
   "execution_count": 10,
   "metadata": {},
   "outputs": [],
   "source": [
    "if ef.tree_solution_available:\n",
    "    ef.write_tree_solution(\"solutions_tree\")"
   ]
  },
  {
   "cell_type": "markdown",
   "metadata": {},
   "source": [
    "### Solving scenarios one by one"
   ]
  },
  {
   "cell_type": "code",
   "execution_count": 11,
   "metadata": {},
   "outputs": [],
   "source": [
    "mdl = scenario_creator(\"s1\")\n",
    "solver = pyo.SolverFactory('scip')\n",
    "results = solver.solve(mdl)"
   ]
  },
  {
   "cell_type": "code",
   "execution_count": 12,
   "metadata": {},
   "outputs": [
    {
     "name": "stdout",
     "output_type": "stream",
     "text": [
      "Build now:  {1: 1.0, 2: 1.0}\n",
      "Build later:  {1: -0.0, 2: -0.0}\n",
      "Develop land:  {1: 1.0, 2: 1.0}\n",
      "Objective value:  1000.0\n"
     ]
    }
   ],
   "source": [
    "objective = mdl.objective()\n",
    "build_now = mdl.build_now.extract_values()\n",
    "build_later = mdl.build_later.extract_values()\n",
    "develop_land = mdl.develop_land.extract_values()\n",
    "\n",
    "print(\"Build now: \", build_now)\n",
    "print(\"Build later: \", build_later)\n",
    "print(\"Develop land: \", develop_land)\n",
    "print(\"Objective value: \", objective)"
   ]
  }
 ],
 "metadata": {
  "kernelspec": {
   "display_name": "stochastic-programming-example-hJaG7892-py3.10",
   "language": "python",
   "name": "python3"
  },
  "language_info": {
   "codemirror_mode": {
    "name": "ipython",
    "version": 3
   },
   "file_extension": ".py",
   "mimetype": "text/x-python",
   "name": "python",
   "nbconvert_exporter": "python",
   "pygments_lexer": "ipython3",
   "version": "3.10.12"
  }
 },
 "nbformat": 4,
 "nbformat_minor": 2
}
