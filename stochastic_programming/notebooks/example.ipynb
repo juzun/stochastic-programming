{
 "cells": [
  {
   "cell_type": "code",
   "execution_count": 1,
   "metadata": {},
   "outputs": [],
   "source": [
    "from typing import Dict, Optional, List\n",
    "import datetime as dt\n",
    "import pandas as pd\n",
    "import numpy as np\n",
    "import pyomo.environ as pyo\n",
    "from pyomo.contrib.latex_printer import latex_printer"
   ]
  },
  {
   "cell_type": "code",
   "execution_count": 2,
   "metadata": {},
   "outputs": [],
   "source": [
    "def build_model(prices: List[int], objective_limit: float = float('inf')) -> pyo.ConcreteModel:\n",
    "    mdl = pyo.ConcreteModel()\n",
    "\n",
    "    mdl.lot = pyo.Set(initialize=[1, 2])\n",
    "    mdl.scenarios = pyo.Set(initialize=[f\"s{i}\" for i in range(len(prices))])\n",
    "\n",
    "    mdl.land_development_cost = pyo.Param(mdl.lot, initialize={1: 600, 2: 100})\n",
    "    mdl.build_cost_now = pyo.Param(mdl.lot, initialize={1: 200, 2: 600})\n",
    "    mdl.build_cost_later = pyo.Param(mdl.lot, initialize={1: 220, 2: 660})\n",
    "    mdl.price_scenarios = pyo.Param(mdl.scenarios, initialize={f\"s{i}\": price for i, price in enumerate(prices)})\n",
    "\n",
    "    mdl.develop_land = pyo.Var(mdl.lot, domain=pyo.Binary, name=\"Develop land\")\n",
    "    mdl.build_now = pyo.Var(mdl.lot, domain=pyo.Binary, name=\"Build now\")\n",
    "    mdl.build_later = pyo.Var(mdl.scenarios, mdl.lot, domain=pyo.Binary, name=\"Build later\")\n",
    "\n",
    "    mdl.objective = pyo.Objective(\n",
    "        expr=(\n",
    "            sum(\n",
    "                1/len(mdl.scenarios) * sum(\n",
    "                    mdl.price_scenarios[sc] * (mdl.build_now[lot] + mdl.build_later[sc, lot])\n",
    "                    - mdl.build_cost_later[lot] * mdl.build_later[sc, lot]\n",
    "                    for lot in mdl.lot\n",
    "                )\n",
    "                for sc in mdl.scenarios\n",
    "            )\n",
    "            - sum(\n",
    "                mdl.build_cost_now[lot] * mdl.build_now[lot]\n",
    "                for lot in mdl.lot\n",
    "            )\n",
    "            - sum(\n",
    "                mdl.land_development_cost[lot] * mdl.develop_land[lot]\n",
    "                for lot in mdl.lot\n",
    "            )\n",
    "        ),\n",
    "        sense=pyo.maximize,\n",
    "    )\n",
    "\n",
    "    mdl.constr_build_once = pyo.ConstraintList()\n",
    "    for sc in mdl.scenarios:\n",
    "        for lot in mdl.lot:\n",
    "            mdl.constr_build_once.add(mdl.build_now[lot] + mdl.build_later[sc, lot] <= 1)\n",
    "\n",
    "    mdl.constr_cost_of_land = pyo.ConstraintList()\n",
    "    for sc in mdl.scenarios:\n",
    "        for lot in mdl.lot:\n",
    "            mdl.constr_cost_of_land.add(mdl.develop_land[lot] >= (mdl.build_now[lot] + mdl.build_later[sc, lot]))\n",
    "\n",
    "    mdl.limit_optimal_solution = pyo.Constraint(\n",
    "        expr=mdl.objective <= objective_limit\n",
    "    )\n",
    "\n",
    "    return mdl"
   ]
  },
  {
   "cell_type": "code",
   "execution_count": 3,
   "metadata": {},
   "outputs": [],
   "source": [
    "prices = [210, 1250, 2500]\n",
    "mdl = build_model(prices=prices)\n",
    "solver = pyo.SolverFactory('scip')\n",
    "results = solver.solve(mdl)"
   ]
  },
  {
   "cell_type": "code",
   "execution_count": 4,
   "metadata": {},
   "outputs": [
    {
     "name": "stdout",
     "output_type": "stream",
     "text": [
      "Build now:  {1: 1.0, 2: -0.0}\n",
      "Build later:  {('s0', 1): -0.0, ('s0', 2): -0.0, ('s1', 1): 0.0, ('s1', 2): 1.0, ('s2', 1): 0.0, ('s2', 2): 1.0}\n",
      "Develop land:  {1: 1.0, 2: 1.0}\n",
      "Objective value:  1230.0\n"
     ]
    }
   ],
   "source": [
    "objective = mdl.objective()\n",
    "build_now = mdl.build_now.extract_values()\n",
    "build_later = mdl.build_later.extract_values()\n",
    "develop_land = mdl.develop_land.extract_values()\n",
    "\n",
    "print(\"Build now: \", build_now)\n",
    "print(\"Build later: \", build_later)\n",
    "print(\"Develop land: \", develop_land)\n",
    "print(\"Objective value: \", objective)"
   ]
  },
  {
   "cell_type": "markdown",
   "metadata": {},
   "source": [
    "### Custom solutions"
   ]
  },
  {
   "cell_type": "code",
   "execution_count": 6,
   "metadata": {},
   "outputs": [],
   "source": [
    "build_now = {1: 0, 2: 0}\n",
    "build_later = {('s1', 1): 0, ('s1', 2): 0, ('s2', 1): 0, ('s2', 2): 1}\n",
    "develop_land = {1: 0, 2: 1}"
   ]
  },
  {
   "cell_type": "code",
   "execution_count": 7,
   "metadata": {},
   "outputs": [
    {
     "data": {
      "text/plain": [
       "195.0"
      ]
     },
     "execution_count": 7,
     "metadata": {},
     "output_type": "execute_result"
    }
   ],
   "source": [
    "(\n",
    "    sum(\n",
    "        1/len(mdl.scenarios) * sum(\n",
    "            mdl.price_scenarios[sc] * ((build_now[lot] + build_later[sc, lot]))\n",
    "            - mdl.build_cost_later[lot] * build_later[sc, lot]\n",
    "            for lot in mdl.lot\n",
    "        )\n",
    "        for sc in mdl.scenarios\n",
    "    )\n",
    "    - sum(\n",
    "        mdl.build_cost_now[lot] * build_now[lot]\n",
    "        for lot in mdl.lot\n",
    "    )\n",
    "    - sum(\n",
    "        mdl.land_development_cost[lot] * develop_land[lot]\n",
    "        for lot in mdl.lot\n",
    "    )\n",
    ")"
   ]
  },
  {
   "cell_type": "code",
   "execution_count": 8,
   "metadata": {},
   "outputs": [
    {
     "data": {
      "text/plain": [
       "295.0"
      ]
     },
     "execution_count": 8,
     "metadata": {},
     "output_type": "execute_result"
    }
   ],
   "source": [
    "sum(\n",
    "    1/len(mdl.scenarios) * sum(\n",
    "        mdl.price_scenarios[sc] * (build_now[lot] + build_later[sc, lot])\n",
    "        - mdl.build_cost_later[lot] * build_later[sc, lot]\n",
    "        for lot in mdl.lot\n",
    "    )\n",
    "    for sc in mdl.scenarios\n",
    ")"
   ]
  },
  {
   "cell_type": "code",
   "execution_count": 9,
   "metadata": {},
   "outputs": [
    {
     "data": {
      "text/plain": [
       "-100"
      ]
     },
     "execution_count": 9,
     "metadata": {},
     "output_type": "execute_result"
    }
   ],
   "source": [
    "(\n",
    "    - sum(\n",
    "        mdl.build_cost_now[lot] * build_now[lot]\n",
    "        for lot in mdl.lot\n",
    "    )\n",
    "    - sum(\n",
    "        mdl.land_development_cost[lot] * develop_land[lot]\n",
    "        for lot in mdl.lot\n",
    "    )\n",
    ")"
   ]
  }
 ],
 "metadata": {
  "kernelspec": {
   "display_name": "stochastic-programming-example-hJaG7892-py3.10",
   "language": "python",
   "name": "python3"
  },
  "language_info": {
   "codemirror_mode": {
    "name": "ipython",
    "version": 3
   },
   "file_extension": ".py",
   "mimetype": "text/x-python",
   "name": "python",
   "nbconvert_exporter": "python",
   "pygments_lexer": "ipython3",
   "version": "3.10.12"
  }
 },
 "nbformat": 4,
 "nbformat_minor": 2
}
